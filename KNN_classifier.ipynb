{
 "cells": [
  {
   "cell_type": "code",
   "execution_count": null,
   "id": "initial_id",
   "metadata": {
    "collapsed": true
   },
   "outputs": [],
   "source": [
    "from sklearn.model_selection import StratifiedShuffleSplit\n",
    "from sklearn.neighbors import KNeighborsClassifier\n",
    "import numpy as np\n",
    "import pandas as pd\n",
    "import matplotlib.pyplot as plt\n",
    "import seaborn as sns\n",
    "\n",
    "mushroom_data = pd.read_csv(\"data/mushroom_cleaned.csv\")\n",
    "y = mushroom_data['class']  # Target variable\n",
    "x = mushroom_data.iloc[:, :-1]\n",
    "mushroom_data.describe()\n",
    "\n",
    "fig,ax = plt.subplots(nrows=1,ncols=2,figsize=(20,10))\n",
    "stratified_shuffle_split = StratifiedShuffleSplit(n_splits=1, test_size=0.3, random_state=142)\n",
    "\n",
    "index_training_data, index_test_data = next(stratified_shuffle_split.split(x, y))\n",
    "ax[0].set_title(\"Before\")\n",
    "ax[1].set_title(\"After\")\n",
    "sns.heatmap(x.corr(), annot=True,ax=ax[0])\n",
    "x.drop(\"cap-diameter\", axis=1, inplace=True) # There is a high correlation  between cap-diameter and stem-width. One has to go!!\n",
    "\n",
    "x_train_set = mushroom_data.loc[index_training_data, x.columns]\n",
    "y_train_ = mushroom_data.loc[index_training_data, \"class\"]\n",
    "\n",
    "x_test_set = mushroom_data.loc[index_test_data, x.columns]\n",
    "y_test_ = mushroom_data.loc[index_test_data, \"class\"]\n",
    "\n",
    "\n",
    "knn_classifier = KNeighborsClassifier(n_neighbors=3)\n",
    "knn_classifier.fit(x_train_set, y_train_)\n",
    "y_pred = knn_classifier.predict(x_test_set)\n"
   ]
  }
 ],
 "metadata": {
  "kernelspec": {
   "display_name": "Python 3",
   "language": "python",
   "name": "python3"
  },
  "language_info": {
   "codemirror_mode": {
    "name": "ipython",
    "version": 2
   },
   "file_extension": ".py",
   "mimetype": "text/x-python",
   "name": "python",
   "nbconvert_exporter": "python",
   "pygments_lexer": "ipython2",
   "version": "2.7.6"
  }
 },
 "nbformat": 4,
 "nbformat_minor": 5
}
